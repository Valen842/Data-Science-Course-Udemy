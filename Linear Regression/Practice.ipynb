{
 "cells": [
  {
   "cell_type": "code",
   "execution_count": 9,
   "id": "75c9fe57",
   "metadata": {},
   "outputs": [
    {
     "name": "stdout",
     "output_type": "stream",
     "text": [
      "10\n",
      "Not Possible\n"
     ]
    },
    {
     "data": {
      "text/plain": [
       "0"
      ]
     },
     "execution_count": 9,
     "metadata": {},
     "output_type": "execute_result"
    }
   ],
   "source": [
    "def distance_from_zero(x):\n",
    "    if type(x) in (int, float):\n",
    "        return abs(x)\n",
    "    else:\n",
    "        print(\"Not Possible\")\n",
    "        return 0\n",
    "\n",
    "# Llama a la función con diferentes valores\n",
    "print(distance_from_zero(-10))\n",
    "distance_from_zero(\"cat\")"
   ]
  },
  {
   "cell_type": "code",
   "execution_count": 1,
   "id": "b60bdf7d",
   "metadata": {},
   "outputs": [
    {
     "name": "stdout",
     "output_type": "stream",
     "text": [
      "[15, 25, 40, 50, 100]\n"
     ]
    }
   ],
   "source": [
    "Numbers = [15, 25, 40, 50]\n",
    "Numbers.append(100)  # Append 100 to the end of the list\n",
    "print(Numbers)\n"
   ]
  },
  {
   "cell_type": "code",
   "execution_count": 2,
   "id": "275458fb",
   "metadata": {},
   "outputs": [
    {
     "ename": "TypeError",
     "evalue": "'tuple' object is not callable",
     "output_type": "error",
     "traceback": [
      "\u001b[1;31m---------------------------------------------------------------------------\u001b[0m",
      "\u001b[1;31mTypeError\u001b[0m                                 Traceback (most recent call last)",
      "Cell \u001b[1;32mIn[2], line 2\u001b[0m\n\u001b[0;32m      1\u001b[0m Cars \u001b[38;5;241m=\u001b[39m (\u001b[38;5;124m\"\u001b[39m\u001b[38;5;124mBMW\u001b[39m\u001b[38;5;124m\"\u001b[39m, \u001b[38;5;124m\"\u001b[39m\u001b[38;5;124mDodge\u001b[39m\u001b[38;5;124m\"\u001b[39m, \u001b[38;5;124m\"\u001b[39m\u001b[38;5;124mFord\u001b[39m\u001b[38;5;124m\"\u001b[39m)\n\u001b[1;32m----> 2\u001b[0m Cars (\u001b[38;5;241m2\u001b[39m)\n",
      "\u001b[1;31mTypeError\u001b[0m: 'tuple' object is not callable"
     ]
    }
   ],
   "source": [
    "Cars = (\"BMW\", \"Dodge\", \"Ford\")\n",
    "Cars (2)"
   ]
  },
  {
   "cell_type": "code",
   "execution_count": 3,
   "id": "ec7f3fa9",
   "metadata": {},
   "outputs": [
    {
     "data": {
      "text/plain": [
       "'Ford'"
      ]
     },
     "execution_count": 3,
     "metadata": {},
     "output_type": "execute_result"
    }
   ],
   "source": [
    "Cars = (\"BMW\", \"Dodge\", \"Ford\")\n",
    "Cars [2]"
   ]
  },
  {
   "cell_type": "code",
   "execution_count": 4,
   "id": "4ed28f1b",
   "metadata": {},
   "outputs": [
    {
     "data": {
      "text/plain": [
       "'Dodge'"
      ]
     },
     "execution_count": 4,
     "metadata": {},
     "output_type": "execute_result"
    }
   ],
   "source": [
    "Cars = (\"BMW\", \"Dodge\", \"Ford\")\n",
    "Cars [1]"
   ]
  },
  {
   "cell_type": "code",
   "execution_count": 1,
   "id": "6bca957a",
   "metadata": {},
   "outputs": [
    {
     "data": {
      "text/plain": [
       "0"
      ]
     },
     "execution_count": 1,
     "metadata": {},
     "output_type": "execute_result"
    }
   ],
   "source": [
    "52%13"
   ]
  },
  {
   "cell_type": "code",
   "execution_count": 2,
   "id": "9b1d7e4a",
   "metadata": {},
   "outputs": [
    {
     "data": {
      "text/plain": [
       "4.0"
      ]
     },
     "execution_count": 2,
     "metadata": {},
     "output_type": "execute_result"
    }
   ],
   "source": [
    "52/13"
   ]
  },
  {
   "cell_type": "code",
   "execution_count": 3,
   "id": "dc85b5c0",
   "metadata": {},
   "outputs": [
    {
     "name": "stdout",
     "output_type": "stream",
     "text": [
      "New menu {'meal_1': 'Spaghetti', 'meal_2': 'Fries', 'meal_3': 'CheeseBurger', 'meal_4': 'Lasagna'}\n"
     ]
    }
   ],
   "source": [
    "Menu = {'meal_1': 'Spaghetti', 'meal_2': 'Fries', 'meal_3': 'Hamburger', 'meal_4': 'Lasagna'}\n",
    "Menu['meal_3'] = 'CheeseBurger'\n",
    "print('New menu', Menu)\n"
   ]
  },
  {
   "cell_type": "code",
   "execution_count": 4,
   "id": "4f9473bd",
   "metadata": {},
   "outputs": [
    {
     "name": "stdout",
     "output_type": "stream",
     "text": [
      "Updated Menu: {'meal_1': 'Spaghetti', 'meal_2': 'Fries', 'meal_3': 'Cheeseburger', 'meal_4': 'Lasagna', 'meal_5': ['Pancakes', 'Ice-cream', 'Tiramisu']}\n"
     ]
    }
   ],
   "source": [
    "Menu = {'meal_1': 'Spaghetti', 'meal_2': 'Fries', 'meal_3': 'Cheeseburger', 'meal_4': 'Lasagna'}\n",
    "Dessert = ['Pancakes', 'Ice-cream', 'Tiramisu']\n",
    "\n",
    "# Attach Dessert as the sixth meal\n",
    "Menu['meal_5'] = Dessert\n",
    "\n",
    "# Print the updated menu\n",
    "print('Updated Menu:', Menu)"
   ]
  },
  {
   "cell_type": "code",
   "execution_count": 5,
   "id": "23c050b2",
   "metadata": {},
   "outputs": [
    {
     "name": "stdout",
     "output_type": "stream",
     "text": [
      "Updated Menu: {'meal_1': 'Spaghetti', 'meal_2': 'Fries', 'meal_3': 'Cheeseburger', 'meal_4': 'Lasagna', 'meal_6': ['Pancakes', 'Ice-cream', 'Tiramisu']}\n"
     ]
    }
   ],
   "source": [
    "Menu = {'meal_1': 'Spaghetti', 'meal_2': 'Fries', 'meal_3': 'Cheeseburger', 'meal_4': 'Lasagna'}\n",
    "Dessert = ['Pancakes', 'Ice-cream', 'Tiramisu']\n",
    "\n",
    "# Attach Dessert as the sixth meal\n",
    "Menu['meal_6'] = Dessert\n",
    "\n",
    "# Print the updated menu\n",
    "print('Updated Menu:', Menu)\n"
   ]
  },
  {
   "cell_type": "code",
   "execution_count": 6,
   "id": "fe674bc9",
   "metadata": {},
   "outputs": [
    {
     "ename": "SyntaxError",
     "evalue": "invalid syntax (3520734450.py, line 1)",
     "output_type": "error",
     "traceback": [
      "\u001b[1;36m  Cell \u001b[1;32mIn[6], line 1\u001b[1;36m\u001b[0m\n\u001b[1;33m    Price_list = {'Cheeseburger': 8, 'Fries': 5, 'Lasagna': 12, 'Soup': 5, 'Spaghetti': 10}Price_list = {'Cheeseburger': 8, 'Fries': 5, 'Lasagna': 12, 'Soup': 5, 'Spaghetti': 10}\u001b[0m\n\u001b[1;37m                                                                                           ^\u001b[0m\n\u001b[1;31mSyntaxError\u001b[0m\u001b[1;31m:\u001b[0m invalid syntax\n"
     ]
    }
   ],
   "source": [
    "Price_list = {'Cheeseburger': 8, 'Fries': 5, 'Lasagna': 12, 'Soup': 5, 'Spaghetti': 10}Price_list = {'Cheeseburger': 8, 'Fries': 5, 'Lasagna': 12, 'Soup': 5, 'Spaghetti': 10}\n",
    "\n",
    "# Check the price of Spaghetti using .get()\n",
    "spaghetti_price = Price_list.get('Spaghetti')"
   ]
  },
  {
   "cell_type": "code",
   "execution_count": 1,
   "id": "7f6365b6",
   "metadata": {},
   "outputs": [
    {
     "name": "stdout",
     "output_type": "stream",
     "text": [
      "[0, 1, 2, 3, 4, 5, 6, 7, 8, 9]\n",
      "[0, 1, 2, 3, 4, 5, 6, 7, 8, 9]\n",
      "[0, 1, 2, 3, 4, 5, 6, 7, 8, 9]\n",
      "[0, 1, 2, 3, 4, 5, 6, 7, 8, 9]\n",
      "[0, 1, 2, 3, 4, 5, 6, 7, 8, 9]\n",
      "[0, 1, 2, 3, 4, 5, 6, 7, 8, 9]\n",
      "[0, 1, 2, 3, 4, 5, 6, 7, 8, 9]\n",
      "[0, 1, 2, 3, 4, 5, 6, 7, 8, 9]\n",
      "[0, 1, 2, 3, 4, 5, 6, 7, 8, 9]\n",
      "[0, 1, 2, 3, 4, 5, 6, 7, 8, 9]\n"
     ]
    }
   ],
   "source": [
    "digits = [0,1,2,3,4,5,6,7,8,9]\n",
    "count = 0\n",
    "for count in range(10):\n",
    "    print(digits)"
   ]
  },
  {
   "cell_type": "code",
   "execution_count": 12,
   "id": "2998dbb9",
   "metadata": {},
   "outputs": [
    {
     "ename": "SyntaxError",
     "evalue": "unexpected character after line continuation character (408712838.py, line 4)",
     "output_type": "error",
     "traceback": [
      "\u001b[1;36m  Cell \u001b[1;32mIn[12], line 4\u001b[1;36m\u001b[0m\n\u001b[1;33m    print(d\\n)\u001b[0m\n\u001b[1;37m            ^\u001b[0m\n\u001b[1;31mSyntaxError\u001b[0m\u001b[1;31m:\u001b[0m unexpected character after line continuation character\n"
     ]
    }
   ],
   "source": [
    "digits = [0, 1, 2, 3, 4, 5, 6, 7, 8, 9]\n",
    "\n",
    "for d in digits:\n",
    "    print(d\\n)\n"
   ]
  },
  {
   "cell_type": "code",
   "execution_count": 13,
   "id": "ccb2d122",
   "metadata": {},
   "outputs": [
    {
     "name": "stdout",
     "output_type": "stream",
     "text": [
      "0 1 2 3 4 5 6 7 8 9 "
     ]
    }
   ],
   "source": [
    "digits = [0, 1, 2, 3, 4, 5, 6, 7, 8, 9]\n",
    "\n",
    "for d in digits:\n",
    "    print(d, end=\" \")\n"
   ]
  },
  {
   "cell_type": "code",
   "execution_count": 16,
   "id": "f70b5fa4",
   "metadata": {},
   "outputs": [
    {
     "name": "stdout",
     "output_type": "stream",
     "text": [
      "1 3 5 7 9 11 13 15 17 19 21 23 25 27 29 "
     ]
    }
   ],
   "source": [
    "odd_number = 1\n",
    "while odd_number <=30:\n",
    "    print (odd_number, end = \" \")\n",
    "    odd_number = odd_number + 2"
   ]
  },
  {
   "cell_type": "code",
   "execution_count": 17,
   "id": "51303c31",
   "metadata": {},
   "outputs": [
    {
     "data": {
      "text/plain": [
       "[0, 1, 2, 3, 4, 5, 6, 7, 8, 9]"
      ]
     },
     "execution_count": 17,
     "metadata": {},
     "output_type": "execute_result"
    }
   ],
   "source": [
    "list(range(10))"
   ]
  },
  {
   "cell_type": "code",
   "execution_count": 18,
   "id": "a6fc5021",
   "metadata": {},
   "outputs": [
    {
     "data": {
      "text/plain": [
       "[1, 2, 3, 4, 5, 6, 7, 8, 9, 10]"
      ]
     },
     "execution_count": 18,
     "metadata": {},
     "output_type": "execute_result"
    }
   ],
   "source": [
    "list(range(1,11,1))"
   ]
  },
  {
   "cell_type": "code",
   "execution_count": 19,
   "id": "9fb53326",
   "metadata": {},
   "outputs": [
    {
     "data": {
      "text/plain": [
       "[0, 1, 2, 3, 4, 5, 6, 7, 8, 9, 10, 11, 12, 13, 14, 15, 16, 17, 18, 19]"
      ]
     },
     "execution_count": 19,
     "metadata": {},
     "output_type": "execute_result"
    }
   ],
   "source": [
    "list(range(0,20,1))"
   ]
  },
  {
   "cell_type": "code",
   "execution_count": 20,
   "id": "0fd727e4",
   "metadata": {},
   "outputs": [
    {
     "ename": "NameError",
     "evalue": "name 'variables' is not defined",
     "output_type": "error",
     "traceback": [
      "\u001b[1;31m---------------------------------------------------------------------------\u001b[0m",
      "\u001b[1;31mNameError\u001b[0m                                 Traceback (most recent call last)",
      "Cell \u001b[1;32mIn[20], line 1\u001b[0m\n\u001b[1;32m----> 1\u001b[0m \u001b[38;5;28;01mfor\u001b[39;00m v \u001b[38;5;129;01min\u001b[39;00m variables:\n\u001b[0;32m      2\u001b[0m     \u001b[38;5;28mlist\u001b[39m(\u001b[38;5;28mrange\u001b[39m(\u001b[38;5;241m0\u001b[39m,\u001b[38;5;241m11\u001b[39m,\u001b[38;5;241m1\u001b[39m)\u001b[38;5;241m*\u001b[39m\u001b[38;5;241m2\u001b[39m)\n",
      "\u001b[1;31mNameError\u001b[0m: name 'variables' is not defined"
     ]
    }
   ],
   "source": [
    "for v in variables:\n",
    "    list(range(0,11,1)*2)"
   ]
  },
  {
   "cell_type": "code",
   "execution_count": 21,
   "id": "7eea8794",
   "metadata": {},
   "outputs": [
    {
     "ename": "NameError",
     "evalue": "name 'v' is not defined",
     "output_type": "error",
     "traceback": [
      "\u001b[1;31m---------------------------------------------------------------------------\u001b[0m",
      "\u001b[1;31mNameError\u001b[0m                                 Traceback (most recent call last)",
      "Cell \u001b[1;32mIn[21], line 1\u001b[0m\n\u001b[1;32m----> 1\u001b[0m \u001b[38;5;28;01mfor\u001b[39;00m v \u001b[38;5;129;01min\u001b[39;00m v:\n\u001b[0;32m      2\u001b[0m     \u001b[38;5;28mlist\u001b[39m(\u001b[38;5;28mrange\u001b[39m(\u001b[38;5;241m0\u001b[39m,\u001b[38;5;241m11\u001b[39m,\u001b[38;5;241m1\u001b[39m)\u001b[38;5;241m*\u001b[39m\u001b[38;5;241m2\u001b[39m)\n",
      "\u001b[1;31mNameError\u001b[0m: name 'v' is not defined"
     ]
    }
   ],
   "source": [
    "for v in v:\n",
    "    list(range(0,11,1)*2)"
   ]
  },
  {
   "cell_type": "code",
   "execution_count": 23,
   "id": "8863959c",
   "metadata": {},
   "outputs": [
    {
     "ename": "TypeError",
     "evalue": "'int' object is not iterable",
     "output_type": "error",
     "traceback": [
      "\u001b[1;31m---------------------------------------------------------------------------\u001b[0m",
      "\u001b[1;31mTypeError\u001b[0m                                 Traceback (most recent call last)",
      "Cell \u001b[1;32mIn[23], line 2\u001b[0m\n\u001b[0;32m      1\u001b[0m var \u001b[38;5;241m=\u001b[39m \u001b[38;5;241m0\u001b[39m\n\u001b[1;32m----> 2\u001b[0m \u001b[38;5;28;01mfor\u001b[39;00m v \u001b[38;5;129;01min\u001b[39;00m var:\n\u001b[0;32m      3\u001b[0m     \u001b[38;5;28mlist\u001b[39m(\u001b[38;5;28mrange\u001b[39m(\u001b[38;5;241m0\u001b[39m,\u001b[38;5;241m11\u001b[39m,\u001b[38;5;241m1\u001b[39m)\u001b[38;5;241m*\u001b[39m\u001b[38;5;241m2\u001b[39m)\n",
      "\u001b[1;31mTypeError\u001b[0m: 'int' object is not iterable"
     ]
    }
   ],
   "source": [
    "var = 0\n",
    "for v in var:\n",
    "    list(range(0,11,1)*2)"
   ]
  },
  {
   "cell_type": "code",
   "execution_count": 24,
   "id": "09ce55bc",
   "metadata": {},
   "outputs": [
    {
     "name": "stdout",
     "output_type": "stream",
     "text": [
      "[0, 1, 2, 3, 4, 5, 6, 7, 8, 9, 10, 0, 1, 2, 3, 4, 5, 6, 7, 8, 9, 10]\n",
      "[0, 1, 2, 3, 4, 5, 6, 7, 8, 9, 10, 0, 1, 2, 3, 4, 5, 6, 7, 8, 9, 10]\n",
      "[0, 1, 2, 3, 4, 5, 6, 7, 8, 9, 10, 0, 1, 2, 3, 4, 5, 6, 7, 8, 9, 10]\n",
      "[0, 1, 2, 3, 4, 5, 6, 7, 8, 9, 10, 0, 1, 2, 3, 4, 5, 6, 7, 8, 9, 10]\n"
     ]
    }
   ],
   "source": [
    "# Suponiendo que 'var' es una lista\n",
    "var = [1, 2, 3, 4]  # Se define 'var' como una lista de ejemplo\n",
    "\n",
    "for v in var:\n",
    "    result = list(range(0, 11, 1)) * 2\n",
    "    print(result)\n"
   ]
  },
  {
   "cell_type": "code",
   "execution_count": 25,
   "id": "5631490b",
   "metadata": {},
   "outputs": [
    {
     "name": "stdout",
     "output_type": "stream",
     "text": [
      "[0, 1, 2, 3, 4, 5, 6, 7, 8, 9, 10, 0, 1, 2, 3, 4, 5, 6, 7, 8, 9, 10]\n",
      "[0, 1, 2, 3, 4, 5, 6, 7, 8, 9, 10, 0, 1, 2, 3, 4, 5, 6, 7, 8, 9, 10]\n",
      "[0, 1, 2, 3, 4, 5, 6, 7, 8, 9, 10, 0, 1, 2, 3, 4, 5, 6, 7, 8, 9, 10]\n",
      "[0, 1, 2, 3, 4, 5, 6, 7, 8, 9, 10, 0, 1, 2, 3, 4, 5, 6, 7, 8, 9, 10]\n"
     ]
    }
   ],
   "source": [
    "# Suponiendo que 'var' es una lista\n",
    "var = [1, 2, 3, 4]  # Se define 'var' como una lista de ejemplo\n",
    "\n",
    "for v in var:\n",
    "    result = list(range(0, 11, 1))\n",
    "    print(result*2)\n"
   ]
  },
  {
   "cell_type": "code",
   "execution_count": 26,
   "id": "65d707a5",
   "metadata": {},
   "outputs": [
    {
     "name": "stdout",
     "output_type": "stream",
     "text": [
      "2\n",
      "4\n",
      "6\n",
      "8\n",
      "10\n",
      "12\n",
      "14\n",
      "16\n",
      "18\n",
      "20\n"
     ]
    }
   ],
   "source": [
    "# Using range() function to create a loop from 1 to 10\n",
    "for i in range(1, 11):\n",
    "    print(i * 2)\n"
   ]
  },
  {
   "cell_type": "code",
   "execution_count": 27,
   "id": "45e46d23",
   "metadata": {},
   "outputs": [
    {
     "name": "stdout",
     "output_type": "stream",
     "text": [
      "1\n",
      "Even\n",
      "3\n",
      "Even\n",
      "5\n",
      "Even\n",
      "7\n",
      "Even\n",
      "9\n",
      "Even\n",
      "11\n",
      "Even\n",
      "13\n",
      "Even\n",
      "15\n",
      "Even\n",
      "17\n",
      "Even\n",
      "19\n",
      "Even\n",
      "21\n",
      "Even\n",
      "23\n",
      "Even\n",
      "25\n",
      "Even\n",
      "27\n",
      "Even\n",
      "29\n",
      "Even\n"
     ]
    }
   ],
   "source": [
    "for i in range(1, 31):\n",
    "    if i % 2 != 0:  # Check if the number is odd\n",
    "        print(i)\n",
    "    else:\n",
    "        print(\"Even\")"
   ]
  },
  {
   "cell_type": "code",
   "execution_count": 28,
   "id": "23237a28",
   "metadata": {},
   "outputs": [
    {
     "name": "stdout",
     "output_type": "stream",
     "text": [
      "1 Even 3 Even 5 Even 7 Even 9 Even 11 Even 13 Even 15 Even 17 Even 19 Even 21 Even 23 Even 25 Even 27 Even 29 Even "
     ]
    }
   ],
   "source": [
    "for i in range(1, 31):\n",
    "    print(i if i % 2 != 0 else \"Even\", end=' ')\n"
   ]
  },
  {
   "cell_type": "code",
   "execution_count": 1,
   "id": "03b0f465",
   "metadata": {},
   "outputs": [
    {
     "name": "stdout",
     "output_type": "stream",
     "text": [
      "10\n",
      "20\n",
      "30\n",
      "40\n",
      "50\n",
      "60\n"
     ]
    }
   ],
   "source": [
    "n = [1, 2, 3, 4, 5, 6]\n",
    "result = [num * 10 for num in n]\n",
    "for value in result:\n",
    "    print(value)"
   ]
  },
  {
   "cell_type": "code",
   "execution_count": 8,
   "id": "fc02519d",
   "metadata": {},
   "outputs": [
    {
     "data": {
      "text/plain": [
       "1"
      ]
     },
     "execution_count": 8,
     "metadata": {},
     "output_type": "execute_result"
    }
   ],
   "source": [
    "def func(nums):\n",
    "    for x in nums:\n",
    "        if x<20:\n",
    "            total=+1\n",
    "    return total\n",
    "\n",
    "nums = [1,35,12,24,31,51,70,100]\n",
    "total = 0\n",
    "func(nums)"
   ]
  },
  {
   "cell_type": "code",
   "execution_count": 9,
   "id": "5d1af07d",
   "metadata": {},
   "outputs": [
    {
     "name": "stdout",
     "output_type": "stream",
     "text": [
      "Total values less than 20: 2\n"
     ]
    }
   ],
   "source": [
    "def func(nums):\n",
    "    total = 0\n",
    "    count = 0\n",
    "    while count < len(nums):\n",
    "        if nums[count] < 20:\n",
    "            total += 1\n",
    "        count += 1\n",
    "    return total\n",
    "\n",
    "nums = [1, 35, 12, 24, 31, 51, 70, 100]\n",
    "result = func(nums)\n",
    "print(\"Total values less than 20:\", result)"
   ]
  },
  {
   "cell_type": "code",
   "execution_count": 10,
   "id": "460b4bc7",
   "metadata": {},
   "outputs": [
    {
     "name": "stdout",
     "output_type": "stream",
     "text": [
      "2\n"
     ]
    }
   ],
   "source": [
    "def func(nums):\n",
    "    total = 0\n",
    "    count = 0\n",
    "    while count < len(nums):\n",
    "        if nums[count] < 20:\n",
    "            total += 1\n",
    "        count += 1\n",
    "    return total\n",
    "\n",
    "nums = [1, 35, 12, 24, 31, 51, 70, 100] #2\n",
    "result = func(nums)\n",
    "print(result)"
   ]
  },
  {
   "cell_type": "code",
   "execution_count": 11,
   "id": "9b3c4038",
   "metadata": {},
   "outputs": [
    {
     "name": "stdout",
     "output_type": "stream",
     "text": [
      "2\n"
     ]
    }
   ],
   "source": [
    "nums = [1,35,12,24,31,51,70,100]\n",
    "\n",
    "total = 0\n",
    "count = 0\n",
    "while count < len(nums):\n",
    "    if nums[count] < 20:\n",
    "        total += 1\n",
    "    count += 1\n",
    "\n",
    "print(total)"
   ]
  },
  {
   "cell_type": "code",
   "execution_count": 12,
   "id": "8b3df81f",
   "metadata": {},
   "outputs": [
    {
     "name": "stdout",
     "output_type": "stream",
     "text": [
      "2\n"
     ]
    }
   ],
   "source": [
    "nums = [1,35,12,24,31,51,70,100]\n",
    "\n",
    "count = 0\n",
    "index = 0\n",
    "while index < len(nums):\n",
    "    if nums[index] < 20:\n",
    "        count += 1\n",
    "    index += 1\n",
    "    \n",
    "print(count)"
   ]
  },
  {
   "cell_type": "code",
   "execution_count": 13,
   "id": "09c6174e",
   "metadata": {},
   "outputs": [
    {
     "name": "stdout",
     "output_type": "stream",
     "text": [
      "2\n"
     ]
    }
   ],
   "source": [
    "nums = [1,35,12,24,31,51,70,100]\n",
    "\n",
    "count = 0\n",
    "index = 0\n",
    "while index < len(nums):\n",
    "    if nums[index] < 20:\n",
    "        count += 1\n",
    "    index += 1\n",
    "    \n",
    "print(count)"
   ]
  },
  {
   "cell_type": "code",
   "execution_count": null,
   "id": "3a004ee9",
   "metadata": {},
   "outputs": [],
   "source": [
    "nums = [1,35,12,24,31,51,70,100]\n",
    "x=0\n",
    "count = 0\n",
    "while(nums[x]<20):\n",
    "    count=+1\n",
    "    x=+1\n",
    "print(count)"
   ]
  },
  {
   "cell_type": "code",
   "execution_count": null,
   "id": "c9f00ea1",
   "metadata": {},
   "outputs": [],
   "source": [
    "nums = [1,35,12,24,31,51,70,100]\n",
    "\n",
    "cantidad = 0\n",
    "indice = 0\n",
    "\n",
    "while true:\n",
    "    if nums[i] < 20:\n",
    "        cantidad =+ 1\n",
    "    indice =+ 1\n",
    "    if indice == len(nums):\n",
    "        break\n",
    "    \n",
    "print(indice)"
   ]
  },
  {
   "cell_type": "code",
   "execution_count": null,
   "id": "47193a54",
   "metadata": {},
   "outputs": [],
   "source": []
  }
 ],
 "metadata": {
  "kernelspec": {
   "display_name": "Python 3 (ipykernel)",
   "language": "python",
   "name": "python3"
  },
  "language_info": {
   "codemirror_mode": {
    "name": "ipython",
    "version": 3
   },
   "file_extension": ".py",
   "mimetype": "text/x-python",
   "name": "python",
   "nbconvert_exporter": "python",
   "pygments_lexer": "ipython3",
   "version": "3.11.3"
  }
 },
 "nbformat": 4,
 "nbformat_minor": 5
}
