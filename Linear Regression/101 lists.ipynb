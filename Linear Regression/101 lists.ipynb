{
 "cells": [
  {
   "cell_type": "code",
   "execution_count": null,
   "id": "113c34f3",
   "metadata": {},
   "outputs": [],
   "source": [
    "nums = [1,35,12,24,31,51,70,100]\n",
    "\n",
    "cantidad = 0\n",
    "indice = 0\n",
    "\n",
    "while indice != len(nums):\n",
    "    if nums[indice] < 20:\n",
    "        cantidad += 1\n",
    "    indice += 1\n",
    "\n",
    "print(indice)"
   ]
  },
  {
   "cell_type": "code",
   "execution_count": null,
   "id": "7113375a",
   "metadata": {},
   "outputs": [],
   "source": []
  }
 ],
 "metadata": {
  "kernelspec": {
   "display_name": "Python 3 (ipykernel)",
   "language": "python",
   "name": "python3"
  },
  "language_info": {
   "codemirror_mode": {
    "name": "ipython",
    "version": 3
   },
   "file_extension": ".py",
   "mimetype": "text/x-python",
   "name": "python",
   "nbconvert_exporter": "python",
   "pygments_lexer": "ipython3",
   "version": "3.11.3"
  }
 },
 "nbformat": 4,
 "nbformat_minor": 5
}
